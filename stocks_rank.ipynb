{
 "cells": [
  {
   "cell_type": "code",
   "execution_count": 1,
   "metadata": {},
   "outputs": [],
   "source": [
    "import numpy as np\n",
    "import pandas as pd\n",
    "\n",
    "# year = 252 days\n",
    "# quarter = 63 days\n",
    "# month = 21 days"
   ]
  },
  {
   "cell_type": "markdown",
   "metadata": {},
   "source": [
    "# GET PRICE HISTORY"
   ]
  },
  {
   "cell_type": "code",
   "execution_count": 2,
   "metadata": {},
   "outputs": [],
   "source": [
    "def get_price_history(file):\n",
    "    df = pd.read_csv(file, parse_dates=['Date'])\n",
    "    df = df.pivot(index='Date', columns='Symbol', values='Adj Close')\n",
    "    return df\n",
    "\n",
    "\n",
    "idx_price_history = get_price_history('idx_values.csv')\n",
    "dow_price_history = get_price_history('dow_values.csv')\n",
    "sp5_price_history = get_price_history('sp5_values.csv')\n",
    "\n",
    "# display(idx_price_history.info())\n",
    "# display(dow_price_history.info())\n",
    "# display(sp5_price_history.info())\n",
    "\n",
    "# display(idx_price_history)\n",
    "# display(dow_price_history)\n",
    "# display(sp5_price_history)"
   ]
  },
  {
   "cell_type": "markdown",
   "metadata": {},
   "source": [
    "# GET RETURN HISTORY"
   ]
  },
  {
   "cell_type": "code",
   "execution_count": 3,
   "metadata": {},
   "outputs": [],
   "source": [
    "def get_return_history(df, days):\n",
    "    df = (df/df.shift(days) - 1).dropna(axis=0, how='all')*100\n",
    "    return df\n",
    "\n",
    "\n",
    "# idx_return_history = get_return_history(idx_price_history, 252)\n",
    "# dow_return_history = get_return_history(dow_price_history, 252)\n",
    "# sp5_return_history = get_return_history(sp5_price_history, 252)\n",
    "\n",
    "# display(idx_return_history)\n",
    "# display(dow_return_history)\n",
    "# display(sp5_return_history)"
   ]
  },
  {
   "cell_type": "markdown",
   "metadata": {},
   "source": [
    "# GET QUANTILE HISTORY"
   ]
  },
  {
   "cell_type": "code",
   "execution_count": 4,
   "metadata": {},
   "outputs": [],
   "source": [
    "def get_quantile_history(df, window, quantile):\n",
    "    df = df.rolling(window).quantile(quantile).dropna(axis=0, how='all')\n",
    "    return df\n",
    "\n",
    "\n",
    "# idx_quantile_history = get_quantile_history(idx_return_history, 252*2, 0.95)\n",
    "# dow_quantile_history = get_quantile_history(dow_return_history, 252*2, 0.95)\n",
    "# sp5_quantile_history = get_quantile_history(sp5_return_history, 252*2, 0.95)\n",
    "\n",
    "# display(idx_quantile_history)\n",
    "# display(dow_quantile_history)\n",
    "# display(sp5_quantile_history)"
   ]
  },
  {
   "cell_type": "markdown",
   "metadata": {},
   "source": [
    "# GET RANK HISTORY"
   ]
  },
  {
   "cell_type": "code",
   "execution_count": 5,
   "metadata": {},
   "outputs": [],
   "source": [
    "# def get_rank_history(df, days):\n",
    "#     df = df.tail(days).dropna(axis=1, how='any')\n",
    "#     df = df.rank(axis=1, method='first', ascending=False)\n",
    "#     df = df.astype('int64')\n",
    "#     return df\n",
    "\n",
    "\n",
    "def get_rank_history(df, start_date):\n",
    "    logic = df.index >= start_date\n",
    "    df = df[logic].dropna(axis=1, how='any')\n",
    "    df = df.rank(axis=1, method='first', ascending=False)\n",
    "    df = df.astype('int64')\n",
    "    return df\n",
    "\n",
    "\n",
    "# start_date = pd.Timestamp('3-30-2022')\n",
    "# dow_rank_history = get_rank_history(dow_quantile_history, start_date)\n",
    "# sp5_rank_history = get_rank_history(sp5_quantile_history, start_date)\n",
    "\n",
    "# display(dow_rank_history)\n",
    "# display(sp5_rank_history)"
   ]
  },
  {
   "cell_type": "markdown",
   "metadata": {},
   "source": [
    "# TRADE"
   ]
  },
  {
   "cell_type": "code",
   "execution_count": 6,
   "metadata": {
    "scrolled": false
   },
   "outputs": [],
   "source": [
    "def get_sell_symbols(positions, ranks, bad_rank):\n",
    "    logic = ranks > bad_rank\n",
    "    bad_symbols = ranks[logic].index\n",
    "    logic = positions.index.isin(bad_symbols)\n",
    "    sell_symbols = positions[logic].index\n",
    "    return sell_symbols\n",
    "\n",
    "\n",
    "def get_buy_symbols(positions, ranks, num_buy):\n",
    "    logic = ~ranks.index.isin(positions.index)\n",
    "    buy_symbols = ranks[logic].nsmallest(num_buy).index\n",
    "    return buy_symbols\n",
    "\n",
    "\n",
    "def trade(price_history, rank_history, start_cash, start_hold, bad_factor):\n",
    "    \n",
    "    cash = start_cash\n",
    "    symbol_cash = start_cash/start_hold\n",
    "    \n",
    "    positions = pd.Series(dtype='float64')\n",
    "    values = pd.Series(dtype='float64')\n",
    "    transactions = []\n",
    "\n",
    "    for date, ranks in rank_history.iterrows():\n",
    "        prices = price_history.loc[date]  \n",
    "        ranks = rank_history.loc[date]  \n",
    "\n",
    "        bad_rank = len(positions)*bad_factor\n",
    "        sell_symbols = get_sell_symbols(positions, ranks, bad_rank)\n",
    "        for symbol in sell_symbols:\n",
    "            price = prices[symbol]\n",
    "            shares = positions[symbol]\n",
    "            cash += price*shares\n",
    "            positions = positions.drop(symbol)\n",
    "            transactions.append([date, 'sell', shares, symbol, price, +price*shares])\n",
    "    \n",
    "        num_buy = int(cash/symbol_cash)        \n",
    "        buy_symbols = get_buy_symbols(positions, ranks, num_buy)\n",
    "        for symbol in buy_symbols:\n",
    "            price = prices[symbol]\n",
    "            shares = int(symbol_cash/price)\n",
    "            cash -= price*shares\n",
    "            positions[symbol] = shares\n",
    "            transactions.append([date, 'buy', shares, symbol, price, -price*shares])\n",
    "                  \n",
    "        value = cash\n",
    "        for symbol in positions.index:\n",
    "            value += prices[symbol]*positions[symbol]\n",
    "        values[date] = value\n",
    "        \n",
    "        if value/start_hold > 2*symbol_cash:\n",
    "            symbol_cash *= 2\n",
    "\n",
    "        \n",
    "    positions = positions.sort_index()\n",
    "    \n",
    "    transactions = pd.DataFrame(transactions,\n",
    "        columns=['Date', 'Action', 'Shares', 'Symbol', 'Price', 'Change'])\n",
    "    \n",
    "    return positions, values, transactions"
   ]
  },
  {
   "cell_type": "code",
   "execution_count": 7,
   "metadata": {
    "scrolled": false
   },
   "outputs": [
    {
     "data": {
      "text/plain": [
       "AMD      4\n",
       "APA     12\n",
       "DVN      8\n",
       "EOG      4\n",
       "F       28\n",
       "FTNT     1\n",
       "MRNA     2\n",
       "MRO     19\n",
       "NUE      3\n",
       "NVDA     1\n",
       "dtype: int64"
      ]
     },
     "metadata": {},
     "output_type": "display_data"
    },
    {
     "data": {
      "text/plain": [
       "2022-03-30    5000.0\n",
       "dtype: float64"
      ]
     },
     "metadata": {},
     "output_type": "display_data"
    },
    {
     "data": {
      "text/html": [
       "<div>\n",
       "<style scoped>\n",
       "    .dataframe tbody tr th:only-of-type {\n",
       "        vertical-align: middle;\n",
       "    }\n",
       "\n",
       "    .dataframe tbody tr th {\n",
       "        vertical-align: top;\n",
       "    }\n",
       "\n",
       "    .dataframe thead th {\n",
       "        text-align: right;\n",
       "    }\n",
       "</style>\n",
       "<table border=\"1\" class=\"dataframe\">\n",
       "  <thead>\n",
       "    <tr style=\"text-align: right;\">\n",
       "      <th></th>\n",
       "      <th>Date</th>\n",
       "      <th>Action</th>\n",
       "      <th>Shares</th>\n",
       "      <th>Symbol</th>\n",
       "      <th>Price</th>\n",
       "      <th>Change</th>\n",
       "    </tr>\n",
       "  </thead>\n",
       "  <tbody>\n",
       "    <tr>\n",
       "      <th>0</th>\n",
       "      <td>2022-03-30</td>\n",
       "      <td>buy</td>\n",
       "      <td>2</td>\n",
       "      <td>MRNA</td>\n",
       "      <td>174.919998</td>\n",
       "      <td>-349.839996</td>\n",
       "    </tr>\n",
       "    <tr>\n",
       "      <th>1</th>\n",
       "      <td>2022-03-30</td>\n",
       "      <td>buy</td>\n",
       "      <td>8</td>\n",
       "      <td>DVN</td>\n",
       "      <td>60.560001</td>\n",
       "      <td>-484.480011</td>\n",
       "    </tr>\n",
       "    <tr>\n",
       "      <th>2</th>\n",
       "      <td>2022-03-30</td>\n",
       "      <td>buy</td>\n",
       "      <td>19</td>\n",
       "      <td>MRO</td>\n",
       "      <td>25.500000</td>\n",
       "      <td>-484.500000</td>\n",
       "    </tr>\n",
       "    <tr>\n",
       "      <th>3</th>\n",
       "      <td>2022-03-30</td>\n",
       "      <td>buy</td>\n",
       "      <td>1</td>\n",
       "      <td>NVDA</td>\n",
       "      <td>276.899994</td>\n",
       "      <td>-276.899994</td>\n",
       "    </tr>\n",
       "    <tr>\n",
       "      <th>4</th>\n",
       "      <td>2022-03-30</td>\n",
       "      <td>buy</td>\n",
       "      <td>12</td>\n",
       "      <td>APA</td>\n",
       "      <td>41.200001</td>\n",
       "      <td>-494.400009</td>\n",
       "    </tr>\n",
       "    <tr>\n",
       "      <th>5</th>\n",
       "      <td>2022-03-30</td>\n",
       "      <td>buy</td>\n",
       "      <td>1</td>\n",
       "      <td>FTNT</td>\n",
       "      <td>341.929993</td>\n",
       "      <td>-341.929993</td>\n",
       "    </tr>\n",
       "    <tr>\n",
       "      <th>6</th>\n",
       "      <td>2022-03-30</td>\n",
       "      <td>buy</td>\n",
       "      <td>28</td>\n",
       "      <td>F</td>\n",
       "      <td>17.270000</td>\n",
       "      <td>-483.560013</td>\n",
       "    </tr>\n",
       "    <tr>\n",
       "      <th>7</th>\n",
       "      <td>2022-03-30</td>\n",
       "      <td>buy</td>\n",
       "      <td>4</td>\n",
       "      <td>AMD</td>\n",
       "      <td>119.220001</td>\n",
       "      <td>-476.880005</td>\n",
       "    </tr>\n",
       "    <tr>\n",
       "      <th>8</th>\n",
       "      <td>2022-03-30</td>\n",
       "      <td>buy</td>\n",
       "      <td>3</td>\n",
       "      <td>NUE</td>\n",
       "      <td>149.470001</td>\n",
       "      <td>-448.410004</td>\n",
       "    </tr>\n",
       "    <tr>\n",
       "      <th>9</th>\n",
       "      <td>2022-03-30</td>\n",
       "      <td>buy</td>\n",
       "      <td>4</td>\n",
       "      <td>EOG</td>\n",
       "      <td>121.089996</td>\n",
       "      <td>-484.359985</td>\n",
       "    </tr>\n",
       "  </tbody>\n",
       "</table>\n",
       "</div>"
      ],
      "text/plain": [
       "        Date Action  Shares Symbol       Price      Change\n",
       "0 2022-03-30    buy       2   MRNA  174.919998 -349.839996\n",
       "1 2022-03-30    buy       8    DVN   60.560001 -484.480011\n",
       "2 2022-03-30    buy      19    MRO   25.500000 -484.500000\n",
       "3 2022-03-30    buy       1   NVDA  276.899994 -276.899994\n",
       "4 2022-03-30    buy      12    APA   41.200001 -494.400009\n",
       "5 2022-03-30    buy       1   FTNT  341.929993 -341.929993\n",
       "6 2022-03-30    buy      28      F   17.270000 -483.560013\n",
       "7 2022-03-30    buy       4    AMD  119.220001 -476.880005\n",
       "8 2022-03-30    buy       3    NUE  149.470001 -448.410004\n",
       "9 2022-03-30    buy       4    EOG  121.089996 -484.359985"
      ]
     },
     "metadata": {},
     "output_type": "display_data"
    },
    {
     "data": {
      "text/html": [
       "<div>\n",
       "<style scoped>\n",
       "    .dataframe tbody tr th:only-of-type {\n",
       "        vertical-align: middle;\n",
       "    }\n",
       "\n",
       "    .dataframe tbody tr th {\n",
       "        vertical-align: top;\n",
       "    }\n",
       "\n",
       "    .dataframe thead th {\n",
       "        text-align: right;\n",
       "    }\n",
       "</style>\n",
       "<table border=\"1\" class=\"dataframe\">\n",
       "  <thead>\n",
       "    <tr style=\"text-align: right;\">\n",
       "      <th></th>\n",
       "      <th></th>\n",
       "      <th>Action</th>\n",
       "      <th>Shares</th>\n",
       "      <th>Price</th>\n",
       "      <th>Change</th>\n",
       "    </tr>\n",
       "    <tr>\n",
       "      <th>Symbol</th>\n",
       "      <th>Date</th>\n",
       "      <th></th>\n",
       "      <th></th>\n",
       "      <th></th>\n",
       "      <th></th>\n",
       "    </tr>\n",
       "  </thead>\n",
       "  <tbody>\n",
       "    <tr>\n",
       "      <th>AMD</th>\n",
       "      <th>2022-03-30</th>\n",
       "      <td>buy</td>\n",
       "      <td>4</td>\n",
       "      <td>119.220001</td>\n",
       "      <td>-476.880005</td>\n",
       "    </tr>\n",
       "    <tr>\n",
       "      <th>APA</th>\n",
       "      <th>2022-03-30</th>\n",
       "      <td>buy</td>\n",
       "      <td>12</td>\n",
       "      <td>41.200001</td>\n",
       "      <td>-494.400009</td>\n",
       "    </tr>\n",
       "    <tr>\n",
       "      <th>DVN</th>\n",
       "      <th>2022-03-30</th>\n",
       "      <td>buy</td>\n",
       "      <td>8</td>\n",
       "      <td>60.560001</td>\n",
       "      <td>-484.480011</td>\n",
       "    </tr>\n",
       "    <tr>\n",
       "      <th>EOG</th>\n",
       "      <th>2022-03-30</th>\n",
       "      <td>buy</td>\n",
       "      <td>4</td>\n",
       "      <td>121.089996</td>\n",
       "      <td>-484.359985</td>\n",
       "    </tr>\n",
       "    <tr>\n",
       "      <th>F</th>\n",
       "      <th>2022-03-30</th>\n",
       "      <td>buy</td>\n",
       "      <td>28</td>\n",
       "      <td>17.270000</td>\n",
       "      <td>-483.560013</td>\n",
       "    </tr>\n",
       "    <tr>\n",
       "      <th>FTNT</th>\n",
       "      <th>2022-03-30</th>\n",
       "      <td>buy</td>\n",
       "      <td>1</td>\n",
       "      <td>341.929993</td>\n",
       "      <td>-341.929993</td>\n",
       "    </tr>\n",
       "    <tr>\n",
       "      <th>MRNA</th>\n",
       "      <th>2022-03-30</th>\n",
       "      <td>buy</td>\n",
       "      <td>2</td>\n",
       "      <td>174.919998</td>\n",
       "      <td>-349.839996</td>\n",
       "    </tr>\n",
       "    <tr>\n",
       "      <th>MRO</th>\n",
       "      <th>2022-03-30</th>\n",
       "      <td>buy</td>\n",
       "      <td>19</td>\n",
       "      <td>25.500000</td>\n",
       "      <td>-484.500000</td>\n",
       "    </tr>\n",
       "    <tr>\n",
       "      <th>NUE</th>\n",
       "      <th>2022-03-30</th>\n",
       "      <td>buy</td>\n",
       "      <td>3</td>\n",
       "      <td>149.470001</td>\n",
       "      <td>-448.410004</td>\n",
       "    </tr>\n",
       "    <tr>\n",
       "      <th>NVDA</th>\n",
       "      <th>2022-03-30</th>\n",
       "      <td>buy</td>\n",
       "      <td>1</td>\n",
       "      <td>276.899994</td>\n",
       "      <td>-276.899994</td>\n",
       "    </tr>\n",
       "  </tbody>\n",
       "</table>\n",
       "</div>"
      ],
      "text/plain": [
       "                  Action  Shares       Price      Change\n",
       "Symbol Date                                             \n",
       "AMD    2022-03-30    buy       4  119.220001 -476.880005\n",
       "APA    2022-03-30    buy      12   41.200001 -494.400009\n",
       "DVN    2022-03-30    buy       8   60.560001 -484.480011\n",
       "EOG    2022-03-30    buy       4  121.089996 -484.359985\n",
       "F      2022-03-30    buy      28   17.270000 -483.560013\n",
       "FTNT   2022-03-30    buy       1  341.929993 -341.929993\n",
       "MRNA   2022-03-30    buy       2  174.919998 -349.839996\n",
       "MRO    2022-03-30    buy      19   25.500000 -484.500000\n",
       "NUE    2022-03-30    buy       3  149.470001 -448.410004\n",
       "NVDA   2022-03-30    buy       1  276.899994 -276.899994"
      ]
     },
     "metadata": {},
     "output_type": "display_data"
    }
   ],
   "source": [
    "price_history = sp5_price_history\n",
    "start_date = pd.Timestamp('3-30-2022')\n",
    "\n",
    "rank_history = (price_history\n",
    "    .pipe(get_return_history, 63)\n",
    "    .pipe(get_quantile_history, 252, 0.75)\n",
    "    .pipe(get_rank_history, start_date))\n",
    "\n",
    "start_cash = 5_000\n",
    "start_hold = 10\n",
    "bad_factor = 2\n",
    "\n",
    "positions, values, transactions = trade(\n",
    "    price_history, rank_history, start_cash, start_hold, bad_factor)\n",
    "\n",
    "display(positions)\n",
    "display(values)\n",
    "display(transactions)\n",
    "display(transactions.sort_values(['Symbol', 'Date']).set_index(['Symbol', 'Date']))"
   ]
  },
  {
   "cell_type": "code",
   "execution_count": 8,
   "metadata": {},
   "outputs": [
    {
     "data": {
      "text/plain": [
       "0.0"
      ]
     },
     "execution_count": 8,
     "metadata": {},
     "output_type": "execute_result"
    },
    {
     "data": {
      "image/png": "[encoded data removed]",
      "text/plain": [
       "<Figure size 432x288 with 1 Axes>"
      ]
     },
     "metadata": {
      "needs_background": "light"
     },
     "output_type": "display_data"
    }
   ],
   "source": [
    "start_date = rank_history.index[0]\n",
    "idx_values = idx_price_history.loc[start_date:, '^GSPC']\n",
    "idx_values = idx_values/idx_values[0]*start_cash\n",
    "\n",
    "values.plot(logy=True);\n",
    "idx_values.plot(logy=True);\n",
    "\n",
    "(values[-1]/values[0] - 1)/len(values)*252*100"
   ]
  },
  {
   "cell_type": "code",
   "execution_count": 9,
   "metadata": {},
   "outputs": [
    {
     "data": {
      "image/png": "[encoded data removed]",
      "text/plain": [
       "<Figure size 432x288 with 1 Axes>"
      ]
     },
     "metadata": {
      "needs_background": "light"
     },
     "output_type": "display_data"
    }
   ],
   "source": [
    "price_history.loc[start_date:, positions.index].plot();"
   ]
  },
  {
   "cell_type": "code",
   "execution_count": null,
   "metadata": {},
   "outputs": [],
   "source": []
  },
  {
   "cell_type": "code",
   "execution_count": null,
   "metadata": {},
   "outputs": [],
   "source": []
  }
 ],
 "metadata": {
  "kernelspec": {
   "display_name": "Python 3",
   "language": "python",
   "name": "python3"
  },
  "language_info": {
   "codemirror_mode": {
    "name": "ipython",
    "version": 3
   },
   "file_extension": ".py",
   "mimetype": "text/x-python",
   "name": "python",
   "nbconvert_exporter": "python",
   "pygments_lexer": "ipython3",
   "version": "3.8.5"
  }
 },
 "nbformat": 4,
 "nbformat_minor": 4
}
